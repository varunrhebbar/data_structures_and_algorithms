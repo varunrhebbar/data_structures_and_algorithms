{
 "cells": [
  {
   "cell_type": "code",
   "execution_count": 1,
   "id": "0ccb9b02",
   "metadata": {},
   "outputs": [
    {
     "name": "stdout",
     "output_type": "stream",
     "text": [
      "f\n"
     ]
    }
   ],
   "source": [
    "from collections import Counter\n",
    "\n",
    "def printNonrepeated(string):\n",
    "\n",
    "\tfreq = Counter(string)\n",
    "\n",
    "\n",
    "\tfor i in string:\n",
    "\t\tif(freq[i] == 1):\n",
    "\t\t\tprint(i)\n",
    "\t\t\tbreak\n",
    "\n",
    "\n",
    "string = \"varun\"\n",
    "\n",
    "printNonrepeated(string)\n",
    "\n",
    "\n",
    "\n"
   ]
  },
  {
   "cell_type": "code",
   "execution_count": null,
   "id": "2f1ac853",
   "metadata": {},
   "outputs": [],
   "source": []
  }
 ],
 "metadata": {
  "kernelspec": {
   "display_name": "Python 3 (ipykernel)",
   "language": "python",
   "name": "python3"
  },
  "language_info": {
   "codemirror_mode": {
    "name": "ipython",
    "version": 3
   },
   "file_extension": ".py",
   "mimetype": "text/x-python",
   "name": "python",
   "nbconvert_exporter": "python",
   "pygments_lexer": "ipython3",
   "version": "3.9.7"
  }
 },
 "nbformat": 4,
 "nbformat_minor": 5
}

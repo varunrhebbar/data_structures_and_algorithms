{
 "cells": [
  {
   "cell_type": "code",
   "execution_count": 9,
   "id": "395062e1",
   "metadata": {},
   "outputs": [
    {
     "name": "stdout",
     "output_type": "stream",
     "text": [
      "Found at Index 0\n",
      "Found at Index 1\n"
     ]
    }
   ],
   "source": [
    "MAX=256\n",
    "\n",
    "def compare(arr1, arr2):\n",
    "\tfor i in range(MAX):\n",
    "\t\tif arr1[i] != arr2[i]:\n",
    "\t\t\treturn False\n",
    "\treturn True\n",
    "\t\n",
    "\n",
    "def search(pat, txt):\n",
    "\n",
    "\tM = len(pat)\n",
    "\tN = len(txt)\n",
    "\n",
    "\tcountP = [0]*MAX\n",
    "\n",
    "\tcountTW = [0]*MAX\n",
    "\n",
    "\tfor i in range(M):\n",
    "\t\t(countP[ord(pat[i]) ]) += 1  # countP Store count of  all characters of pattern countTW Store count of current window of text\n",
    "\t\t(countTW[ord(txt[i]) ]) += 1\n",
    "\n",
    "\tfor i in range(M,N):\n",
    "\n",
    "\t\t# Compare counts of current window of text with counts of pattern[]\n",
    "\t\tif compare(countP, countTW):\n",
    "\t\t\tprint(\"Found at Index\", (i-M))\n",
    "\n",
    "\t\t# Add current character to current window\n",
    "\t\t(countTW[ ord(txt[i]) ]) += 1\n",
    "\n",
    "\t\t# Remove the first character of previous window\n",
    "\t\t(countTW[ ord(txt[i-M]) ]) -= 1\n",
    "\t\n",
    "\tif compare(countP, countTW):\n",
    "\t\tprint(\"Found at Index\", N-M)\n",
    "\t\t\n",
    "txt = \"AAABBBCCCDDD\"\n",
    "pat = \"AA\"\t\n",
    "search(pat, txt)\n",
    "\n"
   ]
  },
  {
   "cell_type": "code",
   "execution_count": null,
   "id": "9b2aaf16",
   "metadata": {},
   "outputs": [],
   "source": []
  },
  {
   "cell_type": "code",
   "execution_count": null,
   "id": "078c2f15",
   "metadata": {},
   "outputs": [],
   "source": []
  }
 ],
 "metadata": {
  "kernelspec": {
   "display_name": "Python 3 (ipykernel)",
   "language": "python",
   "name": "python3"
  },
  "language_info": {
   "codemirror_mode": {
    "name": "ipython",
    "version": 3
   },
   "file_extension": ".py",
   "mimetype": "text/x-python",
   "name": "python",
   "nbconvert_exporter": "python",
   "pygments_lexer": "ipython3",
   "version": "3.9.7"
  }
 },
 "nbformat": 4,
 "nbformat_minor": 5
}
